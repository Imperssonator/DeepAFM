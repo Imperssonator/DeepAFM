{
 "cells": [
  {
   "cell_type": "code",
   "execution_count": 5,
   "metadata": {
    "collapsed": false,
    "scrolled": false
   },
   "outputs": [],
   "source": [
    "import imfractal\n",
    "import time"
   ]
  },
  {
   "cell_type": "code",
   "execution_count": 2,
   "metadata": {
    "collapsed": false
   },
   "outputs": [],
   "source": [
    "from tests import test_MFS"
   ]
  },
  {
   "cell_type": "code",
   "execution_count": 6,
   "metadata": {
    "collapsed": false
   },
   "outputs": [
    {
     "name": "stdout",
     "output_type": "stream",
     "text": [
      "Calculating MFS Multifractal Spectrum...\n",
      "Time MFS:  0.886488\n",
      "[ 0.69968542  0.84959914  1.03556467  1.12519949  1.22769414  1.32773573\n",
      "  1.41596351  1.49156293  1.54900164  1.60508076  1.6453427   1.66295837\n",
      "  1.68895648  1.69488501  1.68914175  1.67370209  1.64790377  1.60938569\n",
      "  1.50042149  1.41607536]\n"
     ]
    }
   ],
   "source": [
    "filename = 'images/baguette2.tif'#fractal20Bread.png'\n",
    "i = imfractal.MFS()\n",
    "i.setDef(1,20,3)\n",
    "print \"Calculating MFS Multifractal Spectrum...\"\n",
    "t =  time.clock()\n",
    "fds3 = i.getFDs(filename)\n",
    "t =  time.clock()-t\n",
    "print \"Time MFS: \", t\n",
    "print fds3"
   ]
  },
  {
   "cell_type": "code",
   "execution_count": null,
   "metadata": {
    "collapsed": true
   },
   "outputs": [],
   "source": [
    "i = Singularity(20)"
   ]
  },
  {
   "cell_type": "code",
   "execution_count": null,
   "metadata": {
    "collapsed": false
   },
   "outputs": [],
   "source": [
    "Image.open('images/baguette2.tif')"
   ]
  },
  {
   "cell_type": "code",
   "execution_count": null,
   "metadata": {
    "collapsed": true
   },
   "outputs": [],
   "source": []
  }
 ],
 "metadata": {
  "kernelspec": {
   "display_name": "Python 2",
   "language": "python",
   "name": "python2"
  },
  "language_info": {
   "codemirror_mode": {
    "name": "ipython",
    "version": 2
   },
   "file_extension": ".py",
   "mimetype": "text/x-python",
   "name": "python",
   "nbconvert_exporter": "python",
   "pygments_lexer": "ipython2",
   "version": "2.7.13"
  }
 },
 "nbformat": 4,
 "nbformat_minor": 0
}
